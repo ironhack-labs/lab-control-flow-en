{
 "cells": [
  {
   "cell_type": "markdown",
   "metadata": {},
   "source": [
    "## Words"
   ]
  },
  {
   "cell_type": "code",
   "execution_count": 2,
   "metadata": {},
   "outputs": [],
   "source": [
    "words = ['play', 'filling', 'bar', 'theatre', 'easygoing', 'date', 'lead', 'that', 'story',  'island']"
   ]
  },
  {
   "cell_type": "markdown",
   "metadata": {},
   "source": [
    "**Print every word in upper case**"
   ]
  },
  {
   "cell_type": "code",
   "execution_count": 3,
   "metadata": {},
   "outputs": [
    {
     "name": "stdout",
     "output_type": "stream",
     "text": [
      "PLAY\n",
      "FILLING\n",
      "BAR\n",
      "THEATRE\n",
      "EASYGOING\n",
      "DATE\n",
      "LEAD\n",
      "THAT\n",
      "STORY\n",
      "ISLAND\n"
     ]
    }
   ],
   "source": [
    "#iterate over the list and use the upper method\n",
    "for word in words:\n",
    "    print(word.upper())\n"
   ]
  },
  {
   "cell_type": "markdown",
   "metadata": {},
   "source": [
    "**Create a new list containing only words with 5 or more letters**"
   ]
  },
  {
   "cell_type": "code",
   "execution_count": null,
   "metadata": {},
   "outputs": [],
   "source": [
    "# create an empty list\n",
    "new_list = []\n",
    "\n",
    "# iterate over the words in the list\n",
    "for word in words:\n",
    "    if len(word)>= 5:      ## find the words > than 5 letters\n",
    "        new_list.append(word)  ## append this letters to the list\n",
    "new_list"
   ]
  },
  {
   "cell_type": "markdown",
   "metadata": {},
   "source": [
    "**Print the first word starting with \"t\"**"
   ]
  },
  {
   "cell_type": "code",
   "execution_count": null,
   "metadata": {},
   "outputs": [],
   "source": [
    "# iterate over the words in the list\n",
    "\n",
    "for word in words:\n",
    "    if word.startswith(\"t\"):  ## find the letter that starts with t \n",
    "        print(word)\n",
    "        break"
   ]
  },
  {
   "cell_type": "markdown",
   "metadata": {},
   "source": [
    "## Numbers"
   ]
  },
  {
   "cell_type": "markdown",
   "metadata": {},
   "source": [
    "**Create a list containing the square of every number from 1 to 10**"
   ]
  },
  {
   "cell_type": "code",
   "execution_count": null,
   "metadata": {},
   "outputs": [],
   "source": [
    "# create a list from 1 to 10\n",
    "list_of_numbers = [1,2,3,4,5,6,7,8,9,10]\n",
    "# empty list to save the square number for each value\n",
    "square_list=[]\n",
    "# iterate over the numbers we want to calculate the square\n",
    "for number in number_list:\n",
    "    square=number**2\n",
    "    square_list.append(square)   ## add the squares\n",
    "print(square_list)"
   ]
  },
  {
   "cell_type": "markdown",
   "metadata": {},
   "source": [
    "**Print a list containing the square of every odd number from 1 to 10**"
   ]
  },
  {
   "cell_type": "code",
   "execution_count": null,
   "metadata": {},
   "outputs": [],
   "source": [
    "# create a list from 1 to 10\n",
    "list_of_numbers = [1,2,3,4,5,6,7,8,9,10]\n",
    "# empty list to save the square of an odd number for each value\n",
    "square_list=[]\n",
    "# iterate over the numbers we want to calculate the square\n",
    "\n",
    "for number in list_of_numbers:\n",
    "    if number %2 ==0:      ## set the condition if the value is odd\n",
    "        square=number**2\n",
    "        square_list.append(square)    ## add the square\n",
    "print(square_list)"
   ]
  },
  {
   "cell_type": "markdown",
   "metadata": {},
   "source": [
    "**Create a list with the squares of all multiples of 8 below 1000**"
   ]
  },
  {
   "cell_type": "code",
   "execution_count": null,
   "metadata": {},
   "outputs": [],
   "source": [
    "# empty list to save the square\n",
    "\n",
    "list_squares = []\n",
    "\n",
    "for number in range(1, 1001):   ## use in range to set the values below 1000\n",
    "    if number %8 ==0:           ## set the condition multiplies of 8\n",
    "        square = number**2\n",
    "        list_squares.append(square)   ## append the results\n",
    "print(list_squares)"
   ]
  },
  {
   "cell_type": "markdown",
   "metadata": {},
   "source": [
    "## People"
   ]
  },
  {
   "cell_type": "code",
   "execution_count": null,
   "metadata": {},
   "outputs": [],
   "source": [
    "people = [\n",
    "    {\n",
    "        \"name\": \"Juan\",\n",
    "        \"age\": 34,\n",
    "        \"n_kids\": 2\n",
    "    },\n",
    "    {\n",
    "        \"name\": \"Pepe\",\n",
    "        \"age\": 27,\n",
    "        \"n_kids\": 0\n",
    "    },\n",
    "    {\n",
    "        \"name\": \"Sonia\",\n",
    "        \"age\": 41,\n",
    "        \"n_kids\": 1\n",
    "    },\n",
    "    {\n",
    "        \"name\": \"Lucía\",\n",
    "        \"age\": 22,\n",
    "        \"n_kids\": 2\n",
    "    },\n",
    "    {\n",
    "        \"name\": \"Leo\",\n",
    "        \"age\": 55,\n",
    "        \"n_kids\": 5\n",
    "    }\n",
    "]"
   ]
  },
  {
   "cell_type": "markdown",
   "metadata": {},
   "source": [
    "**How many people are there?**"
   ]
  },
  {
   "cell_type": "code",
   "execution_count": null,
   "metadata": {},
   "outputs": [],
   "source": [
    "# Calculate the length\n",
    "\n",
    "people_count = len(people)\n",
    "print(people_count)"
   ]
  },
  {
   "cell_type": "markdown",
   "metadata": {},
   "source": [
    "**How many people have kids**?"
   ]
  },
  {
   "cell_type": "code",
   "execution_count": null,
   "metadata": {},
   "outputs": [],
   "source": [
    "## I¨nitialize a conter for kids to 0\n",
    "count= 0\n",
    "## Iterate over people\n",
    "for person in people:     \n",
    "    if person['n_kids'] > 0:    ## set the condition to hace kids\n",
    "        count += 1              \n",
    "print(count)"
   ]
  },
  {
   "cell_type": "markdown",
   "metadata": {},
   "source": [
    "**How many kids do they have in total?**"
   ]
  },
  {
   "cell_type": "code",
   "execution_count": null,
   "metadata": {},
   "outputs": [],
   "source": [
    "##Initialize a counter for all the kids\n",
    "\n",
    "num_kids = 0\n",
    "## Iterate over people\n",
    "for person in people:\n",
    "    num_kids += person['n_kids']   ## add the kids each people have\n",
    "print(num_kids)"
   ]
  },
  {
   "cell_type": "markdown",
   "metadata": {},
   "source": [
    "**In a year's time, names ending with \"a\" will have an extra kid. Create a list of dictionaries with people's info in a year's time**"
   ]
  },
  {
   "cell_type": "code",
   "execution_count": null,
   "metadata": {},
   "outputs": [],
   "source": [
    "##Initialize an empty list\n",
    "future_people = []\n",
    " # Iterate over the dictionary\n",
    "for person in people:\n",
    "    future_person = person.copy()        # copy each person\n",
    "    if person['name'].endswith('a'):     # set the condition if name end qith a\n",
    "        future_person[\"n_kids\"] += 1      ## add 1 kid to that person\n",
    "    future_people.append(future_person)   # append the person to the new list\n",
    " \n",
    "print(future_people)"
   ]
  }
 ],
 "metadata": {
  "kernelspec": {
   "display_name": "Python 3 (ipykernel)",
   "language": "python",
   "name": "python3"
  },
  "language_info": {
   "codemirror_mode": {
    "name": "ipython",
    "version": 3
   },
   "file_extension": ".py",
   "mimetype": "text/x-python",
   "name": "python",
   "nbconvert_exporter": "python",
   "pygments_lexer": "ipython3",
   "version": "3.9.6"
  },
  "toc": {
   "base_numbering": 1,
   "nav_menu": {},
   "number_sections": false,
   "sideBar": true,
   "skip_h1_title": false,
   "title_cell": "Table of Contents",
   "title_sidebar": "Contents",
   "toc_cell": false,
   "toc_position": {},
   "toc_section_display": true,
   "toc_window_display": true
  },
  "varInspector": {
   "cols": {
    "lenName": 16,
    "lenType": 16,
    "lenVar": 40
   },
   "kernels_config": {
    "python": {
     "delete_cmd_postfix": "",
     "delete_cmd_prefix": "del ",
     "library": "var_list.py",
     "varRefreshCmd": "print(var_dic_list())"
    },
    "r": {
     "delete_cmd_postfix": ") ",
     "delete_cmd_prefix": "rm(",
     "library": "var_list.r",
     "varRefreshCmd": "cat(var_dic_list()) "
    }
   },
   "types_to_exclude": [
    "module",
    "function",
    "builtin_function_or_method",
    "instance",
    "_Feature"
   ],
   "window_display": false
  },
  "vscode": {
   "interpreter": {
    "hash": "aee8b7b246df8f9039afb4144a1f6fd8d2ca17a180786b69acc140d282b71a49"
   }
  }
 },
 "nbformat": 4,
 "nbformat_minor": 4
}
